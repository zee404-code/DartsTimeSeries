{
  "nbformat": 4,
  "nbformat_minor": 0,
  "metadata": {
    "colab": {
      "provenance": [],
      "authorship_tag": "ABX9TyO3HNvm/8MocFrdDtYXxKOd",
      "include_colab_link": true
    },
    "kernelspec": {
      "name": "python3",
      "display_name": "Python 3"
    },
    "language_info": {
      "name": "python"
    }
  },
  "cells": [
    {
      "cell_type": "markdown",
      "metadata": {
        "id": "view-in-github",
        "colab_type": "text"
      },
      "source": [
        "<a href=\"https://colab.research.google.com/github/zee404-code/DartsTimeSeries/blob/main/dart07.ipynb\" target=\"_parent\"><img src=\"https://colab.research.google.com/assets/colab-badge.svg\" alt=\"Open In Colab\"/></a>"
      ]
    },
    {
      "cell_type": "code",
      "execution_count": null,
      "metadata": {
        "id": "TCEfF4t9vrYc"
      },
      "outputs": [],
      "source": [
        "!pip install darts"
      ]
    },
    {
      "cell_type": "code",
      "source": [
        "from darts.datasets import AirPassengersDataset     \n",
        "data = AirPassengersDataset().load()\n",
        "data.plot()"
      ],
      "metadata": {
        "id": "Tarqw46yvuoZ"
      },
      "execution_count": null,
      "outputs": []
    },
    {
      "cell_type": "code",
      "source": [
        "from darts.utils.statistics import check_seasonality, extract_trend_and_seasonality,remove_seasonality, remove_trend, stationarity_test_adf, stationarity_test_kpss, stationarity_tests\n",
        "from darts.utils.model_selection import train_test_split\n",
        "from darts.utils.utils import ModelMode, SeasonalityMode\n",
        "from darts.models import AutoARIMA, ARIMA, VARIMA"
      ],
      "metadata": {
        "id": "k_nt7aJwv0t2"
      },
      "execution_count": 3,
      "outputs": []
    },
    {
      "cell_type": "code",
      "source": [
        "check1 = stationarity_tests(data, 0.05, 0.05)\n",
        "print(check1)\n",
        "#stationary is based on data. Depending on the stationarity, forecasting models are used\n",
        "#remove non-stationary attributes, apply ARIMA\n",
        "#if seasonality exists, use SARIMA (seasonal ARIMA)\n",
        "#VARIMA is used for multivariate data\n",
        "#AutoARIMA is for optimal p,d,q values\n",
        "\n",
        "#false means data isnt stationary, true means its stationary\n",
        "#stationarity_test is only being used for checking trends\n",
        "#check_seasonality is being used for checking seasonality\n",
        "\n",
        "for m in range(2, 25):\n",
        "    is_seasonal, period = check_seasonality(data, m=m, alpha=0.05)\n",
        "    print('running {}'.format(m))\n",
        "    if is_seasonal:\n",
        "        print(\"There is seasonality of order {}.\".format(period))\n",
        "\n",
        "###current data has both seasonality and trend"
      ],
      "metadata": {
        "id": "fS8SNDZNz49c"
      },
      "execution_count": null,
      "outputs": []
    },
    {
      "cell_type": "code",
      "source": [
        "train, test = train_test_split(data, test_size=0.25, axis=0, input_size=0, horizon=0, vertical_split_type='simple', lazy=False)"
      ],
      "metadata": {
        "id": "kUIm4oRp0We4"
      },
      "execution_count": 5,
      "outputs": []
    },
    {
      "cell_type": "code",
      "source": [
        "#for comparison. How the original data predicts vs how stationary data predicts\n",
        "### original data\n",
        "model = ARIMA()\n",
        "model.fit(train)\n",
        "pred = model.predict(len(test))\n",
        "train.plot(label = 'train')\n",
        "test.plot(label = 'test')\n",
        "pred.plot(label = 'pred')"
      ],
      "metadata": {
        "id": "XOnDaj_q0bCy"
      },
      "execution_count": null,
      "outputs": []
    },
    {
      "cell_type": "code",
      "source": [
        "def vis(train3, test3, pred3):\n",
        "  train3.plot(label = 'train')\n",
        "  test3.plot(label = 'test')\n",
        "  pred3.plot(label = 'pred')\n",
        "\n",
        "#visualization method"
      ],
      "metadata": {
        "id": "Zl1Xf8zy0ngg"
      },
      "execution_count": 9,
      "outputs": []
    },
    {
      "cell_type": "code",
      "source": [
        "if stationarity_tests(data, 0.05, 0.05): \n",
        "  print('this runs 1')\n",
        "  if data.is_univariate:\n",
        "    print('this runs 2')\n",
        "    train, test = train_test_split(data, test_size=0.25, axis=0, input_size=0, horizon=0, vertical_split_type='simple', lazy=False)\n",
        "    model = ARIMA()\n",
        "    model.fit(train)\n",
        "    pred = model.predict(len(test))\n",
        "    vis(train, test, pred)\n",
        "  else:\n",
        "    print('this runs 3')\n",
        "    train, test = train_test_split(data, test_size=0.25, axis=0, input_size=0, horizon=0, vertical_split_type='simple', lazy=False)\n",
        "    model = VARIMA()\n",
        "    model.fit(train)\n",
        "    pred = model.predict(len(test))\n",
        "    vis(train, test, pred)\n",
        "else:\n",
        "  print('this runs 4')\n",
        "  data2, data3 = extract_trend_and_seasonality(data, freq=12, model=ModelMode.MULTIPLICATIVE, method='naive')\n",
        "  #either data has trend, seasonality or both\n",
        "  if (not stationarity_tests(data2, 0.05, 0.05)) and (not stationarity_tests(data3, 0.05, 0.05)) :\n",
        "    print('this runs 5')\n",
        "    #means trend and stationary both exists, remove both\n",
        "    #data4 = remove_trend(data, model=ModelMode.MULTIPLICATIVE, method='naive').remove_seasonality(data, freq=None, model=SeasonalityMode.MULTIPLICATIVE, method='naive')\n",
        "    data4 = remove_seasonality(data, freq=None, model=SeasonalityMode.ADDITIVE, method='STL')\n",
        "    # method = 'naive' with model = 'multiplicative' if only seasonal\n",
        "    # method = 'STL' with model = 'additive' if both seasonal and trend\n",
        "  elif not stationarity_tests(data2, 0.05, 0.05):\n",
        "    print('this runs 6')\n",
        "    #means only trend exists, remove it\n",
        "    data4 = remove_trend(data, model=ModelMode.MULTIPLICATIVE, method='naive')\n",
        "  else:\n",
        "    print('this runs 7')\n",
        "    #means only seasonality exists, remove it\n",
        "    data4 = remove_seasonality(data, freq=None, model=SeasonalityMode.MULTIPLICATIVE, method='naive')\n",
        "\n",
        "print('this runs 9')\n",
        "train2, test2 = train_test_split(data4, test_size=0.25, axis=0, input_size=0, horizon=0, vertical_split_type='simple', lazy=False)\n",
        "if data.is_univariate:\n",
        "  print('this runs 10')\n",
        "  model2 = ARIMA()\n",
        "else:\n",
        "  print('this runs 11')\n",
        "  model2 = VARIMA()\n",
        "\n",
        "print('this runs 12')\n",
        "model2.fit(train2)\n",
        "pred2 = model2.predict(len(test2))\n",
        "vis(train2, test2, pred2)\n"
      ],
      "metadata": {
        "id": "MlQR-YG31Kt4"
      },
      "execution_count": null,
      "outputs": []
    },
    {
      "cell_type": "code",
      "source": [
        "### confirmation test that data is stationary\n",
        "check = stationarity_tests(data4, 0.05, 0.05)\n",
        "print(check)"
      ],
      "metadata": {
        "id": "meYC_W4q1XZg"
      },
      "execution_count": null,
      "outputs": []
    },
    {
      "cell_type": "code",
      "source": [],
      "metadata": {
        "id": "17sbD3u81wdd"
      },
      "execution_count": null,
      "outputs": []
    },
    {
      "cell_type": "code",
      "source": [
        "######## box-cox, differencing and pipelines #################\n",
        "# box-cox removes both seasonality and trend. It works on \n",
        "# box-cox -> data show variation that increases or decreases with the level of the series. log and power transformations\n",
        "# lambda = 0 -> log transformations are used\n",
        "# lambda not equal to 0, power transformations are used followed by simple scaling.\n",
        "# differencing only removes seasonality. Isn't removing trend.\n",
        "for m in range(2, 25):\n",
        "    is_seasonal, period = check_seasonality(data, m=m, alpha=0.05)\n",
        "    if is_seasonal:\n",
        "        print(\"There is seasonality of order {}.\".format(period))"
      ],
      "metadata": {
        "id": "zxULli2v1xQQ"
      },
      "execution_count": null,
      "outputs": []
    },
    {
      "cell_type": "code",
      "source": [
        "dat = data.diff(periods = 12) #12 given that the seasonality is of order 12\n",
        "# n = 2 is creating seasonality of order 23. n is differencing steps\n",
        "for m in range(2, 25):\n",
        "    is_seasonal, period = check_seasonality(dat, m=m, alpha=0.05)\n",
        "    print('running {}'.format(m))\n",
        "    if is_seasonal:\n",
        "        print(\"There is seasonality of order {}.\".format(period))\n",
        "\n",
        "#seasonality removed through differencing. check if dat is stationary.\n",
        "c = stationarity_tests(dat, 0.05, 0.05)\n",
        "print(c) #it isnt. check for trend.\n",
        "\n",
        "dat3 = remove_trend(dat, model=ModelMode.ADDITIVE, method='naive')\n",
        "c2 = stationarity_tests(dat3, 0.05, 0.05)\n",
        "print(c2) #it is. both trend and seasonality have been removed. "
      ],
      "metadata": {
        "id": "RalFcryq102f"
      },
      "execution_count": null,
      "outputs": []
    },
    {
      "cell_type": "code",
      "source": [
        "##### box-cox\n",
        "from darts.dataprocessing.transformers import BoxCox\n",
        "transformer = BoxCox(name='BoxCox',lmbda = None)\n",
        "series_transformed = transformer.fit_transform(data)\n",
        "print(series_transformed.head())\n",
        "\n",
        "\n",
        "#when lmbda is set to None, optimum lmbda values between range of -5 to 5 are tested to find optimum value for dataset. Optim-method could be changed between mle and pearsonr. optim-method is used for finding lmbda values"
      ],
      "metadata": {
        "id": "PyCHbg1L15yV"
      },
      "execution_count": null,
      "outputs": []
    },
    {
      "cell_type": "code",
      "source": [
        "#final verdict is that use stationary tests to detect trends. use check_seasonality to detect seasonality.\n",
        "#use remove trends. use either remove seasonality or used diff(periods = order of seasonality)\n",
        "\n",
        "from darts.dataprocessing.pipeline import Pipeline\n",
        "pipeline = Pipeline([BoxCox(name='BoxCox', lmbda=None, optim_method='mle', n_jobs=1, verbose=True)],copy=False, verbose=True, n_jobs=None)\n",
        "# (1) remove trend, (2) remove seasonality\n",
        "# (3) check stationarity and seasonality\n",
        "series_transformed = pipeline.fit_transform(data)"
      ],
      "metadata": {
        "id": "rtVCPUwI2VXc"
      },
      "execution_count": null,
      "outputs": []
    }
  ]
}