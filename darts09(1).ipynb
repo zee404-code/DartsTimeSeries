{
  "nbformat": 4,
  "nbformat_minor": 0,
  "metadata": {
    "colab": {
      "provenance": [],
      "authorship_tag": "ABX9TyNK3xyBAHXDq1hsQOBhSrcP",
      "include_colab_link": true
    },
    "kernelspec": {
      "name": "python3",
      "display_name": "Python 3"
    },
    "language_info": {
      "name": "python"
    }
  },
  "cells": [
    {
      "cell_type": "markdown",
      "metadata": {
        "id": "view-in-github",
        "colab_type": "text"
      },
      "source": [
        "<a href=\"https://colab.research.google.com/github/zee404-code/DartsTimeSeries/blob/main/darts09(1).ipynb\" target=\"_parent\"><img src=\"https://colab.research.google.com/assets/colab-badge.svg\" alt=\"Open In Colab\"/></a>"
      ]
    },
    {
      "cell_type": "code",
      "execution_count": null,
      "metadata": {
        "id": "PpJSd3SKfgFl"
      },
      "outputs": [],
      "source": [
        "!pip install darts"
      ]
    },
    {
      "cell_type": "code",
      "source": [
        "from darts.datasets import AirPassengersDataset, AusBeerDataset, MonthlyMilkDataset, HeartRateDataset     \n",
        "from darts.utils.statistics import check_seasonality, extract_trend_and_seasonality,remove_seasonality, remove_trend, stationarity_test_adf, stationarity_test_kpss, stationarity_tests\n",
        "from darts.utils.model_selection import train_test_split\n",
        "from darts.utils.utils import ModelMode, SeasonalityMode\n",
        "from darts.models import AutoARIMA, ARIMA, VARIMA, ExponentialSmoothing, TBATS, Theta, NBEATSModel, NHiTSModel\n",
        "from darts.metrics import mape, coefficient_of_variation, dtw_metric, mae, marre, mase, mse, ope, r2_score, rho_risk, rmse, rmsle, smape\n",
        "import warnings\n",
        "warnings.filterwarnings(\"ignore\")"
      ],
      "metadata": {
        "id": "ISQ92BWRf-Qv"
      },
      "execution_count": null,
      "outputs": []
    },
    {
      "cell_type": "code",
      "source": [
        "data1 = AirPassengersDataset().load()\n",
        "train1, test1 = train_test_split(data1, test_size=0.25, axis=0, input_size=0, horizon=0, vertical_split_type='simple', lazy=False)\n",
        "\n",
        "data2 = AusBeerDataset().load()\n",
        "train2, test2 = train_test_split(data2, test_size=0.25, axis=0, input_size=0, horizon=0, vertical_split_type='simple', lazy=False)\n",
        "\n",
        "data3 = MonthlyMilkDataset().load()\n",
        "train3, test3 = train_test_split(data3, test_size=0.25, axis=0, input_size=0, horizon=0, vertical_split_type='simple', lazy=False)\n",
        "\n",
        "data4 = HeartRateDataset().load()\n",
        "train4, test4 = train_test_split(data4, test_size=0.25, axis=0, input_size=0, horizon=0, vertical_split_type='simple', lazy=False)"
      ],
      "metadata": {
        "id": "J4SV0AUfgYL7"
      },
      "execution_count": null,
      "outputs": []
    },
    {
      "cell_type": "code",
      "source": [
        "def visuals(train, test, model, length):\n",
        "  model.fit(train)\n",
        "  pred = model.predict(length)\n",
        "  train.plot(label = 'training')\n",
        "  test.plot(label = 'testing')\n",
        "  pred.plot(label = 'prediction')"
      ],
      "metadata": {
        "id": "fCmhBWYigsC4"
      },
      "execution_count": null,
      "outputs": []
    },
    {
      "cell_type": "code",
      "source": [
        "def seasonality1(data):\n",
        "  for m in range(2, 25):\n",
        "    is_seasonal, period = check_seasonality(data, m=m, alpha=0.05)\n",
        "    #print('running {}'.format(m))\n",
        "    if is_seasonal:\n",
        "       return period"
      ],
      "metadata": {
        "id": "crgirK3Br_M5"
      },
      "execution_count": null,
      "outputs": []
    },
    {
      "cell_type": "code",
      "source": [
        "def seasonality2(data):\n",
        "  for m in range(2, 25):\n",
        "    is_seasonal, period = check_seasonality(data, m=m, alpha=0.05)\n",
        "    #print('running {}'.format(m))\n",
        "    if is_seasonal:\n",
        "       return True"
      ],
      "metadata": {
        "id": "eUqRpl1gsAdV"
      },
      "execution_count": null,
      "outputs": []
    },
    {
      "cell_type": "code",
      "source": [
        "def trend(data):\n",
        "  check = stationarity_tests(data, 0.05, 0.05)\n",
        "  return check"
      ],
      "metadata": {
        "id": "JOLioE79sGpL"
      },
      "execution_count": null,
      "outputs": []
    },
    {
      "cell_type": "code",
      "source": [
        "#@title Default title text\n",
        "length = 36 #@param {type:\"integer\"}\n",
        "def removeStat(data, train, test):\n",
        "  if (not stationarity_tests(data, 0.05, 0.05)) and seasonality2(data): #data does have trend and seasonality\n",
        "    dataT, dataS = extract_trend_and_seasonality(data, freq=seasonality1(data), model=ModelMode.MULTIPLICATIVE, method='naive')\n",
        "    #either data has trend, seasonality or both\n",
        "    if (not stationarity_tests(dataT, 0.05, 0.05)) and (seasonality2(dataS)): #both\n",
        "      dataF = remove_seasonality(data, freq=None, model=SeasonalityMode.ADDITIVE, method='STL')\n",
        "      dataF = remove_trend(data, model=ModelMode.MULTIPLICATIVE, method='naive')\n",
        "    elif not stationarity_tests(dataT, 0.05, 0.05): #only trend\n",
        "      dataF = remove_trend(data, model=ModelMode.MULTIPLICATIVE, method='naive')\n",
        "    else: #only seasonality\n",
        "      dataF = remove_seasonality(data, freq=None, model=SeasonalityMode.MULTIPLICATIVE, method='naive')\n",
        "  else: #data has no trend or seasonality\n",
        "    dataF = data\n",
        "\n",
        "  if dataF.is_univariate:\n",
        "    model = ARIMA()\n",
        "    #print(p, d, q)\n",
        "  else:\n",
        "    model = VARIMA()\n",
        "  model.fit(train)\n",
        "  \n",
        "  predF = model.predict(length)\n",
        "  #vis(test, train, predF)\n",
        "\n",
        "  return dataF"
      ],
      "metadata": {
        "id": "P0R7uQ6HtU6S"
      },
      "execution_count": null,
      "outputs": []
    },
    {
      "cell_type": "code",
      "source": [
        "#removeStat(data2, train2, test2)"
      ],
      "metadata": {
        "id": "bDTsGcP1u49B"
      },
      "execution_count": null,
      "outputs": []
    },
    {
      "cell_type": "code",
      "source": [
        "def removeStat2(data, train, test):\n",
        "  if (not stationarity_tests(data, 0.05, 0.05)) and seasonality2(data): #data does have trend and seasonality\n",
        "    dataT, dataS = extract_trend_and_seasonality(data, freq=seasonality1(data), model=ModelMode.MULTIPLICATIVE, method='naive')\n",
        "    #either data has trend, seasonality or both\n",
        "    if (not stationarity_tests(dataT, 0.05, 0.05)) and (seasonality2(dataS)): #both\n",
        "      dataF = remove_seasonality(data, freq=None, model=SeasonalityMode.ADDITIVE, method='STL')\n",
        "      dataF = remove_trend(data, model=ModelMode.MULTIPLICATIVE, method='naive')\n",
        "    elif not stationarity_tests(dataT, 0.05, 0.05): #only trend\n",
        "      dataF = remove_trend(data, model=ModelMode.MULTIPLICATIVE, method='naive')\n",
        "    else: #only seasonality\n",
        "      dataF = remove_seasonality(data, freq=None, model=SeasonalityMode.MULTIPLICATIVE, method='naive')\n",
        "  else: #data has no trend or seasonality\n",
        "    dataF = data\n",
        "\n",
        "  if dataF.is_univariate:\n",
        "    model = ARIMA()\n",
        "  else:\n",
        "    model = VARIMA()\n",
        "  model.fit(train)\n",
        "  predF = model.predict(len(test))\n",
        "  #vis(test, train, predF)\n",
        "\n",
        "  return model"
      ],
      "metadata": {
        "id": "USdiGLFewYhR"
      },
      "execution_count": null,
      "outputs": []
    },
    {
      "cell_type": "code",
      "source": [
        "#@title Default title text\n",
        "\n",
        "def eval_model(model,n, data, train, test):\n",
        "    \n",
        "    #c = trend(removeStat(data, train,test))\n",
        "    #print(c)\n",
        "    print(seasonality1(removeStat(data, train, test)))\n",
        "    model.fit(train)\n",
        "    forecast = model.predict(n)\n",
        "    dataF = removeStat(data, train, test)\n",
        "    trainF , valF = dataF.split_before(0.75) \n",
        "    model.fit(trainF)\n",
        "    forecastF = model.predict(n)\n",
        "    print(\"model {} obtains MAPE: {:.2f}%\".format(model, mape(test, forecast)))  # Mean Absolute Percentage Error (MAPE)\n",
        "    print(\"model {} obtains MAPE ZW : {:.2f}%\".format(model, mape(valF, forecast)))\n",
        "    print(\"model {} obtains MSE: {:.2f}%\".format(model, mse(test, forecast)))  # Mean Absolute Percentage Error (MAPE)\n",
        "    print(\"model {} obtains MSE ZW: {:.2f}%\".format(model, mse(valF, forecast)))\n",
        "    print(\"model {} obtains MAE: {:.2f}%\".format(model, mae(test, forecast)))  # Mean Absolute Percentage Error (MAPE)\n",
        "    print(\"model {} obtains MAE ZW: {:.2f}%\".format(model, mae(valF, forecast)))\n",
        "    print(\"model {} obtains OPE: {:.2f}%\".format(model, ope(test, forecast)))  # Mean Absolute Percentage Error (MAPE)\n",
        "    print(\"model {} obtains OPE ZW: {:.2f}%\".format(model, ope(valF, forecast)))\n",
        "    print(\"model {} obtains RMSE: {:.2f}%\".format(model, rmse(test, forecast)))  # Mean Absolute Percentage Error (MAPE)\n",
        "    print(\"model {} obtains RMSE ZW: {:.2f}%\".format(model, rmse(valF, forecastF)))\n",
        "    print(\"model {} obtains RMSLE: {:.2f}%\".format(model, rmsle(test, forecast)))\n",
        "    print(\"model {} obtains RMSLE ZW: {:.2f}%\".format(model, rmsle(valF, forecastF)))\n",
        "    print(\"model {} obtains SMAPE: {:.2f}%\".format(model, smape(test, forecast)))\n",
        "    print(\"model {} obtains SMAPE ZW: {:.2f}%\".format(model, smape(valF, forecastF)))\n",
        "    trainF.plot(label = 'training')\n",
        "    valF.plot(label = 'testing')\n",
        "    forecastF.plot(label = 'prediction')\n",
        "    \n",
        "    #print(\"model {} obtains Rho Risk: {:.2f}%\".format(model, rho_risk(val, forecast)))  # Mean Absolute Percentage Error (MAPE)\n",
        "\n",
        "\n",
        "n = 60 #@param {type:\"integer\"}\n",
        "\n",
        "#eval_model(ExponentialSmoothing(),n, data1, train1, test1)\n",
        "#eval_model(TBATS(),n, data1, train1, test1)\n",
        "#eval_model(AutoARIMA(),n, data1, train1, test1)\n",
        "#eval_model(ARIMA(),n, data1, train1, test1)\n",
        "#eval_model(Theta(),n, data1, train1, test1)"
      ],
      "metadata": {
        "id": "__UuoPM2zUvv"
      },
      "execution_count": null,
      "outputs": []
    },
    {
      "cell_type": "code",
      "source": [
        "#@title Test values for ARIMA() - Dataset 1 (Air Passengers) { run: \"auto\", vertical-output: true }\n",
        "p = 12 #@param {type:\"integer\"}\n",
        "d = 1 #@param {type:\"integer\"}\n",
        "q = 0 #@param {type:\"integer\"}\n",
        "length = 36 #@param {type:\"integer\"}\n",
        "P = 0 #@param {type:\"integer\"}\n",
        "D = 0 #@param {type:\"integer\"}\n",
        "Q = 0 #@param {type:\"integer\"}\n",
        "s = 0 #@param {type:\"integer\"}\n",
        "trend = None #@param [\"None\"] {type:\"raw\", allow-input: true}\n",
        "#Parameter controlling the deterministic trend. ‘n’ indicates no trend, ‘c’ a constant term, ‘t’ linear trend in time, and ‘ct’ includes both. Default is ‘c’ for models without integration, and no trend for models with integration.\n",
        "\n",
        "#for trend and encoders select None from dropdown, else type input\n",
        "encoders = None #@param [\"None\"] {type:\"raw\", allow-input: true}\n",
        "random = 0 #@param {type:\"integer\"}\n",
        "\n",
        "eval_model(ARIMA(p=p, d=d, q=q, seasonal_order=(P, D, Q, s), trend=trend, random_state=random, add_encoders=encoders),n, data1, train1, test1)"
      ],
      "metadata": {
        "id": "EiF-zZ4JJ9va"
      },
      "execution_count": null,
      "outputs": []
    },
    {
      "cell_type": "code",
      "source": [
        "print('Air Passeneger Dataset Visualization - pre stationarity tests')\n",
        "visuals(train1, test1, ARIMA(p=p, d=d, q=q, seasonal_order=(P, D, Q, s), trend=trend, random_state=random, add_encoders=encoders), length)"
      ],
      "metadata": {
        "id": "nbxGDZrdK5e1"
      },
      "execution_count": null,
      "outputs": []
    },
    {
      "cell_type": "code",
      "source": [
        "#@title Test values for ARIMA() - Dataset 2 (Aus Beer) { run: \"auto\", vertical-output: true }\n",
        "p = 12 #@param {type:\"integer\"}\n",
        "d = 1 #@param {type:\"integer\"}\n",
        "q = 0 #@param {type:\"integer\"}\n",
        "length = 36 #@param {type:\"integer\"}\n",
        "P = 0 #@param {type:\"integer\"}\n",
        "D = 0 #@param {type:\"integer\"}\n",
        "Q = 0 #@param {type:\"integer\"}\n",
        "s = 0 #@param {type:\"integer\"}\n",
        "trend = None #@param [\"None\"] {type:\"raw\", allow-input: true}\n",
        "encoders = None #@param [\"None\"] {type:\"raw\", allow-input: true}\n",
        "random = 0 #@param {type:\"integer\"}\n",
        "\n",
        "\n",
        "eval_model(ARIMA(p=p, d=d, q=q, seasonal_order=(P, D, Q, s), trend=trend, random_state=random, add_encoders=encoders),n, data2, train2, test2)"
      ],
      "metadata": {
        "colab": {
          "base_uri": "https://localhost:8080/",
          "height": 543
        },
        "id": "0LZuKNUEKnyn",
        "outputId": "22896c92-f442-4091-f4bc-1cff16e325cd"
      },
      "execution_count": null,
      "outputs": [
        {
          "output_type": "stream",
          "name": "stdout",
          "text": [
            "4\n",
            "model ARIMA(12, 1, 0) obtains MAPE: 3.66%\n",
            "model ARIMA(12, 1, 0) obtains MAPE ZW : 44416.84%\n",
            "model ARIMA(12, 1, 0) obtains MSE: 384.31%\n",
            "model ARIMA(12, 1, 0) obtains MSE ZW: 199925.78%\n",
            "model ARIMA(12, 1, 0) obtains MAE: 15.70%\n",
            "model ARIMA(12, 1, 0) obtains MAE ZW: 444.88%\n",
            "model ARIMA(12, 1, 0) obtains OPE: 3.19%\n",
            "model ARIMA(12, 1, 0) obtains OPE ZW: 44421.98%\n",
            "model ARIMA(12, 1, 0) obtains RMSE: 19.60%\n",
            "model ARIMA(12, 1, 0) obtains RMSE ZW: 0.03%\n",
            "model ARIMA(12, 1, 0) obtains RMSLE: 0.04%\n",
            "model ARIMA(12, 1, 0) obtains RMSLE ZW: 0.02%\n",
            "model ARIMA(12, 1, 0) obtains SMAPE: 3.57%\n",
            "model ARIMA(12, 1, 0) obtains SMAPE ZW: 2.65%\n"
          ]
        },
        {
          "output_type": "display_data",
          "data": {
            "text/plain": [
              "<Figure size 432x288 with 1 Axes>"
            ],
            "image/png": "[encoded data removed]"
          },
          "metadata": {
            "needs_background": "light"
          }
        }
      ]
    },
    {
      "cell_type": "code",
      "source": [
        "print('Aus Beer Dataset Visualization - pre stationarity tests')\n",
        "visuals(train2, test2, ARIMA(p=p, d=d, q=q, seasonal_order=(P, D, Q, s), trend=trend, random_state=random, add_encoders=encoders), length)"
      ],
      "metadata": {
        "id": "c2CwyleALbRE"
      },
      "execution_count": null,
      "outputs": []
    },
    {
      "cell_type": "code",
      "source": [
        "#@title Test values for ARIMA() - Dataset 3 (Monthly Milk) { run: \"auto\", vertical-output: true }\n",
        "p = 12 #@param {type:\"integer\"}\n",
        "d = 1 #@param {type:\"integer\"}\n",
        "q = 0 #@param {type:\"integer\"}\n",
        "length = 36 #@param {type:\"integer\"}\n",
        "P = 0 #@param {type:\"integer\"}\n",
        "D = 0 #@param {type:\"integer\"}\n",
        "Q = 0 #@param {type:\"integer\"}\n",
        "s = 0 #@param {type:\"integer\"}\n",
        "trend = None #@param [\"None\"] {type:\"raw\", allow-input: true}\n",
        "#Parameter controlling the deterministic trend. ‘n’ indicates no trend, ‘c’ a constant term, ‘t’ linear trend in time, and ‘ct’ includes both. Default is ‘c’ for models without integration, and no trend for models with integration.\n",
        "\n",
        "#for trend and encoders select None from dropdown, else type input\n",
        "encoders = None #@param [\"None\"] {type:\"raw\", allow-input: true}\n",
        "random = 0 #@param {type:\"integer\"}\n",
        "\n",
        "eval_model(ARIMA(p=p, d=d, q=q, seasonal_order=(P, D, Q, s), trend=trend, random_state=random, add_encoders=encoders),n, data3, train3, test3)"
      ],
      "metadata": {
        "id": "zL37_jKvLfyH"
      },
      "execution_count": null,
      "outputs": []
    },
    {
      "cell_type": "code",
      "source": [
        "print('Monthly Milk Dataset Visualization - pre stationarity tests')\n",
        "visuals(train3, test3, ARIMA(p=p, d=d, q=q, seasonal_order=(P, D, Q, s), trend=trend, random_state=random, add_encoders=encoders), length)"
      ],
      "metadata": {
        "id": "aQo187uDLwsK"
      },
      "execution_count": null,
      "outputs": []
    },
    {
      "cell_type": "code",
      "source": [
        "#@title Test values for ARIMA() - Dataset 4 (Heart Rate) { run: \"auto\", vertical-output: true }\n",
        "p = 12 #@param {type:\"integer\"}\n",
        "d = 1 #@param {type:\"integer\"}\n",
        "q = 0 #@param {type:\"integer\"}\n",
        "length = 36 #@param {type:\"integer\"}\n",
        "P = 0 #@param {type:\"integer\"}\n",
        "D = 0 #@param {type:\"integer\"}\n",
        "Q = 0 #@param {type:\"integer\"}\n",
        "s = 0 #@param {type:\"integer\"}\n",
        "trend = None #@param [\"None\"] {type:\"raw\", allow-input: true}\n",
        "#Parameter controlling the deterministic trend. ‘n’ indicates no trend, ‘c’ a constant term, ‘t’ linear trend in time, and ‘ct’ includes both. Default is ‘c’ for models without integration, and no trend for models with integration.\n",
        "\n",
        "#for trend and encoders select None from dropdown, else type input\n",
        "encoders = None #@param [\"None\"] {type:\"raw\", allow-input: true}\n",
        "random = 0 #@param {type:\"integer\"}\n",
        "\n",
        "\n",
        "eval_model(ARIMA(p=p, d=d, q=q, seasonal_order=(P, D, Q, s), trend=trend, random_state=random, add_encoders=encoders),n, data4, train4, test4)"
      ],
      "metadata": {
        "id": "5ztcJ8lZL8-Z"
      },
      "execution_count": null,
      "outputs": []
    },
    {
      "cell_type": "code",
      "source": [
        "print('Heart Rate Dataset Visualization - pre stationarity tests')\n",
        "visuals(train4, test4, ARIMA(p=p, d=d, q=q, seasonal_order=(P, D, Q, s), trend=trend, random_state=random, add_encoders=encoders), length)"
      ],
      "metadata": {
        "id": "Xa584JSZMEpX"
      },
      "execution_count": null,
      "outputs": []
    },
    {
      "cell_type": "code",
      "source": [
        "#@title Set Values for AutoARIMA() for Dataset 1 (Air Passenger)\n",
        "start_p = 2 #@param {type:\"integer\"}\n",
        "d = None #@param {type:\"raw\"}\n",
        "start_q = 2 #@param {type:\"integer\"}\n",
        "max_p = 5 #@param {type:\"integer\"}\n",
        "max_d = 2 #@param {type:\"integer\"}\n",
        "max_q = 5 #@param {type:\"integer\"}\n",
        "start_P = 1 #@param {type:\"integer\"}\n",
        "D = None #@param {type:\"raw\"}\n",
        "start_Q = 1 #@param {type:\"integer\"}\n",
        "max_P = 1 #@param {type:\"integer\"}\n",
        "max_D = 1 #@param {type:\"integer\"}\n",
        "max_Q = 2 #@param {type:\"integer\"}\n",
        "max_order = 5 #@param {type:\"integer\"}\n",
        "m = 1 #@param {type:\"integer\"}\n",
        "seasonal = True #@param {type:\"boolean\"}\n",
        "stationary = False #@param {type:\"boolean\"}\n",
        "information_criterion = \"aic\" #@param [\"aic\", \"aicc\", \"hqic\", \"oob\"]\n",
        "alpha = 0.05 #@param {type:\"number\"}\n",
        "test = 'kpss' #@param {type:\"raw\"}\n",
        "seasonal_test = 'ocsb' #@param {type:\"raw\"}\n",
        "stepwise = True #@param {type:\"boolean\"}\n",
        "n_jobs = 1 #@param {type:\"integer\"}\n",
        "start_params = None #@param {type:\"raw\"}\n",
        "trend = None #@param {type:\"raw\"}\n",
        "method = 'lbfgs' #@param [\"'newton'\", \"'nm'\", \"'bfgs'\", \"'lbfgs'\", \"'powell'\", \"'cg'\", \"'ncg'\", \"\\u2018basinhopping\\u2019\"] {type:\"raw\", allow-input: true}\n",
        "maxiter = 50 #@param {type:\"integer\"}\n",
        "offset_test_args = None #@param {type:\"raw\"}\n",
        "seasonal_test_args = None #@param {type:\"raw\"}\n",
        "suppress_warnings = True #@param {type:\"boolean\"}\n",
        "error_action = 'trace' #@param [\"'warn'\", \"'raise'\", \"'ignore'\", \"'trace'\"] {type:\"raw\", allow-input: true}\n",
        "trace = False #@param {type:\"boolean\"}\n",
        "random = False #@param {type:\"boolean\"}\n",
        "random_state = None #@param {type:\"raw\"}\n",
        "n_fits = 10 #@param {type:\"integer\"}\n",
        "out_of_sample_size = 0 #@param {type:\"integer\"}\n",
        "scoring = 'mse' #@param {type:\"raw\"}\n",
        "scoring_args = None #@param {type:\"raw\"}\n",
        "with_intercept = 'auto' #@param {type:\"raw\"}\n",
        "\n",
        "\n",
        "eval_model(AutoARIMA(start_p=start_p, d=d, start_q=start_q, max_p=max_p, max_d=max_d, max_q=max_q, start_P=start_P, D=D, start_Q=start_Q, max_P=max_P, max_D=max_D, max_Q=max_Q, max_order=max_order, m=m, seasonal=seasonal, stationary=stationary, information_criterion=information_criterion, alpha=alpha, test=test, seasonal_test=seasonal_test, stepwise=stepwise, n_jobs=n_jobs, start_params=start_params, trend=trend, method=method, maxiter=maxiter, offset_test_args=offset_test_args, seasonal_test_args=seasonal_test_args, suppress_warnings=suppress_warnings, error_action=error_action, trace=trace, random=random, random_state=random_state, n_fits=n_fits, out_of_sample_size=out_of_sample_size, scoring=scoring, scoring_args=scoring_args, with_intercept=with_intercept),n, data1, train1, test1)"
      ],
      "metadata": {
        "id": "UfGqiaf7MNMd"
      },
      "execution_count": null,
      "outputs": []
    },
    {
      "cell_type": "code",
      "source": [
        "print('Air Passeneger Dataset Visualization - pre stationarity tests')\n",
        "visuals(train1, test1, AutoARIMA(start_p=start_p, d=d, start_q=start_q, max_p=max_p, max_d=max_d, max_q=max_q, start_P=start_P, D=D, start_Q=start_Q, max_P=max_P, max_D=max_D, max_Q=max_Q, max_order=max_order, m=m, seasonal=seasonal, stationary=stationary, information_criterion=information_criterion, alpha=alpha, test=test, seasonal_test=seasonal_test, stepwise=stepwise, n_jobs=n_jobs, start_params=start_params, trend=trend, method=method, maxiter=maxiter, offset_test_args=offset_test_args, seasonal_test_args=seasonal_test_args, suppress_warnings=suppress_warnings, error_action=error_action, trace=trace, random=random, random_state=random_state, n_fits=n_fits, out_of_sample_size=out_of_sample_size, scoring=scoring, scoring_args=scoring_args, with_intercept=with_intercept), length)"
      ],
      "metadata": {
        "id": "ioz4_La4M0bH"
      },
      "execution_count": null,
      "outputs": []
    },
    {
      "cell_type": "code",
      "source": [
        "#@title Set Values for AutoARIMA() for Dataset 2 (Aus Beer)\n",
        "start_p = 2 #@param {type:\"integer\"}\n",
        "d = None #@param {type:\"raw\"}\n",
        "start_q = 2 #@param {type:\"integer\"}\n",
        "max_p = 5 #@param {type:\"integer\"}\n",
        "max_d = 2 #@param {type:\"integer\"}\n",
        "max_q = 5 #@param {type:\"integer\"}\n",
        "start_P = 1 #@param {type:\"integer\"}\n",
        "D = None #@param {type:\"raw\"}\n",
        "start_Q = 1 #@param {type:\"integer\"}\n",
        "max_P = 2 #@param {type:\"integer\"}\n",
        "max_D = 1 #@param {type:\"integer\"}\n",
        "max_Q = 2 #@param {type:\"integer\"}\n",
        "max_order = 5 #@param {type:\"integer\"}\n",
        "m = 1 #@param {type:\"integer\"}\n",
        "seasonal = True #@param {type:\"boolean\"}\n",
        "stationary = False #@param {type:\"boolean\"}\n",
        "information_criterion = \"aic\" #@param [\"aic\", \"aicc\", \"hqic\", \"oob\"]\n",
        "alpha = 0.05 #@param {type:\"number\"}\n",
        "test = 'kpss' #@param {type:\"raw\"}\n",
        "seasonal_test = 'ocsb' #@param {type:\"raw\"}\n",
        "stepwise = True #@param {type:\"boolean\"}\n",
        "n_jobs = 1 #@param {type:\"integer\"}\n",
        "start_params = None #@param {type:\"raw\"}\n",
        "trend = None #@param {type:\"raw\"}\n",
        "method = 'lbfgs' #@param [\"'newton'\", \"'nm'\", \"'bfgs'\", \"'lbfgs'\", \"'powell'\", \"'cg'\", \"'ncg'\", \"\\u2018basinhopping\\u2019\"] {type:\"raw\", allow-input: true}\n",
        "maxiter = 50 #@param {type:\"integer\"}\n",
        "offset_test_args = None #@param {type:\"raw\"}\n",
        "seasonal_test_args = None #@param {type:\"raw\"}\n",
        "suppress_warnings = True #@param {type:\"boolean\"}\n",
        "error_action = 'trace' #@param [\"'warn'\", \"'raise'\", \"'ignore'\", \"'trace'\"] {type:\"raw\", allow-input: true}\n",
        "trace = False #@param {type:\"boolean\"}\n",
        "random = False #@param {type:\"boolean\"}\n",
        "random_state = None #@param {type:\"raw\"}\n",
        "n_fits = 10 #@param {type:\"integer\"}\n",
        "out_of_sample_size = 0 #@param {type:\"integer\"}\n",
        "scoring = 'mse' #@param {type:\"raw\"}\n",
        "scoring_args = None #@param {type:\"raw\"}\n",
        "with_intercept = 'auto' #@param {type:\"raw\"}\n",
        "\n",
        "\n",
        "\n",
        "\n",
        "eval_model(AutoARIMA(start_p=start_p, d=d, start_q=start_q, max_p=max_p, max_d=max_d, max_q=max_q, start_P=start_P, D=D, start_Q=start_Q, max_P=max_P, max_D=max_D, max_Q=max_Q, max_order=max_order, m=m, seasonal=seasonal, stationary=stationary, information_criterion=information_criterion, alpha=alpha, test=test, seasonal_test=seasonal_test, stepwise=stepwise, n_jobs=n_jobs, start_params=start_params, trend=trend, method=method, maxiter=maxiter, offset_test_args=offset_test_args, seasonal_test_args=seasonal_test_args, suppress_warnings=suppress_warnings, error_action=error_action, trace=trace, random=random, random_state=random_state, n_fits=n_fits, out_of_sample_size=out_of_sample_size, scoring=scoring, scoring_args=scoring_args, with_intercept=with_intercept),n, data2, train2, test2)"
      ],
      "metadata": {
        "id": "Y2FFfWe9M7p4"
      },
      "execution_count": null,
      "outputs": []
    },
    {
      "cell_type": "code",
      "source": [
        "print('Aus Beer Dataset Visualization - pre stationarity tests')\n",
        "visuals(train2, test2, AutoARIMA(start_p=start_p, d=d, start_q=start_q, max_p=max_p, max_d=max_d, max_q=max_q, start_P=start_P, D=D, start_Q=start_Q, max_P=max_P, max_D=max_D, max_Q=max_Q, max_order=max_order, m=m, seasonal=seasonal, stationary=stationary, information_criterion=information_criterion, alpha=alpha, test=test, seasonal_test=seasonal_test, stepwise=stepwise, n_jobs=n_jobs, start_params=start_params, trend=trend, method=method, maxiter=maxiter, offset_test_args=offset_test_args, seasonal_test_args=seasonal_test_args, suppress_warnings=suppress_warnings, error_action=error_action, trace=trace, random=random, random_state=random_state, n_fits=n_fits, out_of_sample_size=out_of_sample_size, scoring=scoring, scoring_args=scoring_args, with_intercept=with_intercept), length)"
      ],
      "metadata": {
        "id": "aO78G7SCNA4k"
      },
      "execution_count": null,
      "outputs": []
    },
    {
      "cell_type": "code",
      "source": [
        "#@title Set Values for AutoARIMA() for Dataset 3 (Monthly Milk)\n",
        "start_p = 2 #@param {type:\"integer\"}\n",
        "d = None #@param {type:\"raw\"}\n",
        "start_q = 2 #@param {type:\"integer\"}\n",
        "max_p = 5 #@param {type:\"integer\"}\n",
        "max_d = 2 #@param {type:\"integer\"}\n",
        "max_q = 5 #@param {type:\"integer\"}\n",
        "start_P = 1 #@param {type:\"integer\"}\n",
        "D = None #@param {type:\"raw\"}\n",
        "start_Q = 1 #@param {type:\"integer\"}\n",
        "max_P = 2 #@param {type:\"integer\"}\n",
        "max_D = 1 #@param {type:\"integer\"}\n",
        "max_Q = 2 #@param {type:\"integer\"}\n",
        "max_order = 5 #@param {type:\"integer\"}\n",
        "m = 1 #@param {type:\"integer\"}\n",
        "seasonal = True #@param {type:\"boolean\"}\n",
        "stationary = False #@param {type:\"boolean\"}\n",
        "information_criterion = \"aic\" #@param [\"aic\", \"aicc\", \"hqic\", \"oob\"]\n",
        "alpha = 0.05 #@param {type:\"number\"}\n",
        "test = 'kpss' #@param {type:\"raw\"}\n",
        "seasonal_test = 'ocsb' #@param {type:\"raw\"}\n",
        "stepwise = True #@param {type:\"boolean\"}\n",
        "n_jobs = 1 #@param {type:\"integer\"}\n",
        "start_params = None #@param {type:\"raw\"}\n",
        "trend = None #@param {type:\"raw\"}\n",
        "method = 'lbfgs' #@param [\"'newton'\", \"'nm'\", \"'bfgs'\", \"'lbfgs'\", \"'powell'\", \"'cg'\", \"'ncg'\", \"\\u2018basinhopping\\u2019\"] {type:\"raw\", allow-input: true}\n",
        "maxiter = 50 #@param {type:\"integer\"}\n",
        "offset_test_args = None #@param {type:\"raw\"}\n",
        "seasonal_test_args = None #@param {type:\"raw\"}\n",
        "suppress_warnings = True #@param {type:\"boolean\"}\n",
        "error_action = 'trace' #@param [\"'warn'\", \"'raise'\", \"'ignore'\", \"'trace'\"] {type:\"raw\", allow-input: true}\n",
        "trace = False #@param {type:\"boolean\"}\n",
        "random = False #@param {type:\"boolean\"}\n",
        "random_state = None #@param {type:\"raw\"}\n",
        "n_fits = 10 #@param {type:\"integer\"}\n",
        "out_of_sample_size = 0 #@param {type:\"integer\"}\n",
        "scoring = 'mse' #@param {type:\"raw\"}\n",
        "scoring_args = None #@param {type:\"raw\"}\n",
        "with_intercept = 'auto' #@param {type:\"raw\"}\n",
        "\n",
        "\n",
        "\n",
        "\n",
        "eval_model(AutoARIMA(start_p=start_p, d=d, start_q=start_q, max_p=max_p, max_d=max_d, max_q=max_q, start_P=start_P, D=D, start_Q=start_Q, max_P=max_P, max_D=max_D, max_Q=max_Q, max_order=max_order, m=m, seasonal=seasonal, stationary=stationary, information_criterion=information_criterion, alpha=alpha, test=test, seasonal_test=seasonal_test, stepwise=stepwise, n_jobs=n_jobs, start_params=start_params, trend=trend, method=method, maxiter=maxiter, offset_test_args=offset_test_args, seasonal_test_args=seasonal_test_args, suppress_warnings=suppress_warnings, error_action=error_action, trace=trace, random=random, random_state=random_state, n_fits=n_fits, out_of_sample_size=out_of_sample_size, scoring=scoring, scoring_args=scoring_args, with_intercept=with_intercept),n, data3, train3, test3)"
      ],
      "metadata": {
        "id": "Scg3UviuNHb-"
      },
      "execution_count": null,
      "outputs": []
    },
    {
      "cell_type": "code",
      "source": [
        "print('Monthly Milk Dataset Visualization - pre stationarity tests')\n",
        "visuals(train3, test3, AutoARIMA(start_p=start_p, d=d, start_q=start_q, max_p=max_p, max_d=max_d, max_q=max_q, start_P=start_P, D=D, start_Q=start_Q, max_P=max_P, max_D=max_D, max_Q=max_Q, max_order=max_order, m=m, seasonal=seasonal, stationary=stationary, information_criterion=information_criterion, alpha=alpha, test=test, seasonal_test=seasonal_test, stepwise=stepwise, n_jobs=n_jobs, start_params=start_params, trend=trend, method=method, maxiter=maxiter, offset_test_args=offset_test_args, seasonal_test_args=seasonal_test_args, suppress_warnings=suppress_warnings, error_action=error_action, trace=trace, random=random, random_state=random_state, n_fits=n_fits, out_of_sample_size=out_of_sample_size, scoring=scoring, scoring_args=scoring_args, with_intercept=with_intercept), length)"
      ],
      "metadata": {
        "id": "Ra4jIyM0NM5z"
      },
      "execution_count": null,
      "outputs": []
    },
    {
      "cell_type": "code",
      "source": [
        "#@title Set Values for AutoARIMA() for Dataset 4 (Heart Rate)\n",
        "start_p = 2 #@param {type:\"integer\"}\n",
        "d = None #@param {type:\"raw\"}\n",
        "start_q = 2 #@param {type:\"integer\"}\n",
        "max_p = 5 #@param {type:\"integer\"}\n",
        "max_d = 2 #@param {type:\"integer\"}\n",
        "max_q = 5 #@param {type:\"integer\"}\n",
        "start_P = 1 #@param {type:\"integer\"}\n",
        "D = None #@param {type:\"raw\"}\n",
        "start_Q = 1 #@param {type:\"integer\"}\n",
        "max_P = 2 #@param {type:\"integer\"}\n",
        "max_D = 1 #@param {type:\"integer\"}\n",
        "max_Q = 2 #@param {type:\"integer\"}\n",
        "max_order = 5 #@param {type:\"integer\"}\n",
        "m = 1 #@param {type:\"integer\"}\n",
        "seasonal = True #@param {type:\"boolean\"}\n",
        "stationary = False #@param {type:\"boolean\"}\n",
        "information_criterion = \"aic\" #@param [\"aic\", \"aicc\", \"hqic\", \"oob\"]\n",
        "alpha = 0.05 #@param {type:\"number\"}\n",
        "test = 'kpss' #@param {type:\"raw\"}\n",
        "seasonal_test = 'ocsb' #@param {type:\"raw\"}\n",
        "stepwise = True #@param {type:\"boolean\"}\n",
        "n_jobs = 1 #@param {type:\"integer\"}\n",
        "start_params = None #@param {type:\"raw\"}\n",
        "trend = None #@param {type:\"raw\"}\n",
        "method = 'lbfgs' #@param [\"'newton'\", \"'nm'\", \"'bfgs'\", \"'lbfgs'\", \"'powell'\", \"'cg'\", \"'ncg'\", \"\\u2018basinhopping\\u2019\"] {type:\"raw\", allow-input: true}\n",
        "maxiter = 50 #@param {type:\"integer\"}\n",
        "offset_test_args = None #@param {type:\"raw\"}\n",
        "seasonal_test_args = None #@param {type:\"raw\"}\n",
        "suppress_warnings = True #@param {type:\"boolean\"}\n",
        "error_action = 'trace' #@param [\"'warn'\", \"'raise'\", \"'ignore'\", \"'trace'\"] {type:\"raw\", allow-input: true}\n",
        "trace = False #@param {type:\"boolean\"}\n",
        "random = False #@param {type:\"boolean\"}\n",
        "random_state = None #@param {type:\"raw\"}\n",
        "n_fits = 10 #@param {type:\"integer\"}\n",
        "out_of_sample_size = 0 #@param {type:\"integer\"}\n",
        "scoring = 'mse' #@param {type:\"raw\"}\n",
        "scoring_args = None #@param {type:\"raw\"}\n",
        "with_intercept = 'auto' #@param {type:\"raw\"}\n",
        "\n",
        "\n",
        "\n",
        "\n",
        "eval_model(AutoARIMA(start_p=start_p, d=d, start_q=start_q, max_p=max_p, max_d=max_d, max_q=max_q, start_P=start_P, D=D, start_Q=start_Q, max_P=max_P, max_D=max_D, max_Q=max_Q, max_order=max_order, m=m, seasonal=seasonal, stationary=stationary, information_criterion=information_criterion, alpha=alpha, test=test, seasonal_test=seasonal_test, stepwise=stepwise, n_jobs=n_jobs, start_params=start_params, trend=trend, method=method, maxiter=maxiter, offset_test_args=offset_test_args, seasonal_test_args=seasonal_test_args, suppress_warnings=suppress_warnings, error_action=error_action, trace=trace, random=random, random_state=random_state, n_fits=n_fits, out_of_sample_size=out_of_sample_size, scoring=scoring, scoring_args=scoring_args, with_intercept=with_intercept),n, data4, train4, test4)"
      ],
      "metadata": {
        "id": "K6KX0H1YNS6K"
      },
      "execution_count": null,
      "outputs": []
    },
    {
      "cell_type": "code",
      "source": [
        "print('Heart Rate Dataset Visualization - pre stationarity tests')\n",
        "visuals(train4, test4, AutoARIMA(start_p=start_p, d=d, start_q=start_q, max_p=max_p, max_d=max_d, max_q=max_q, start_P=start_P, D=D, start_Q=start_Q, max_P=max_P, max_D=max_D, max_Q=max_Q, max_order=max_order, m=m, seasonal=seasonal, stationary=stationary, information_criterion=information_criterion, alpha=alpha, test=test, seasonal_test=seasonal_test, stepwise=stepwise, n_jobs=n_jobs, start_params=start_params, trend=trend, method=method, maxiter=maxiter, offset_test_args=offset_test_args, seasonal_test_args=seasonal_test_args, suppress_warnings=suppress_warnings, error_action=error_action, trace=trace, random=random, random_state=random_state, n_fits=n_fits, out_of_sample_size=out_of_sample_size, scoring=scoring, scoring_args=scoring_args, with_intercept=with_intercept), length)"
      ],
      "metadata": {
        "id": "4cGlVWHGNqXl"
      },
      "execution_count": null,
      "outputs": []
    },
    {
      "cell_type": "code",
      "source": [
        "#@title Test Values for N-BEATS - Dataset 1 (Air Passenger)\n",
        "input_chunk_length = 0 #@param {type:\"integer\"}\n",
        "output_chunk_length = 0 #@param {type:\"integer\"}\n",
        "generic_architecture = True #@param {type:\"boolean\"}\n",
        "num_stacks = 30 #@param {type:\"integer\"}\n",
        "num_blocks = 1 #@param {type:\"integer\"}\n",
        "num_layers = 4 #@param {type:\"integer\"}\n",
        "layer_widths = 256 #@param {type:\"raw\"}\n",
        "expansion_coefficient_dim = 5 #@param {type:\"integer\"}\n",
        "trend_polynomial_degree = 2 #@param {type:\"integer\"}\n",
        "dropout = 0.0 #@param {type:\"number\"}\n",
        "activation = 'ReLU' #@param [\"'ReLU'\", \"'RReLU'\", \"'PReLU'\", \"'Softplus'\", \"'Tanh'\", \"'SELU'\", \"'LeakyReLU'\", \"'Sigmoid'\"] {type:\"raw\", allow-input: true}\n",
        "\n",
        "\n",
        "eval_model( NBEATSModel(input_chunk_length = input_chunk_length, output_chunk_length = output_chunk_length, generic_architecture=generic_architecture, num_stacks=num_stacks, num_blocks=num_blocks, num_layers=num_layers, layer_widths=layer_widths, expansion_coefficient_dim=expansion_coefficient_dim, trend_polynomial_degree=trend_polynomial_degree, dropout=dropout, activation=activation),n, data1, train1, test1)"
      ],
      "metadata": {
        "id": "k4YS8zPHNxkB"
      },
      "execution_count": null,
      "outputs": []
    },
    {
      "cell_type": "code",
      "source": [
        "print('Air Passeneger Dataset Visualization - pre stationarity tests')\n",
        "visuals(train1, test1, NBEATSModel(input_chunk_length = input_chunk_length, output_chunk_length = output_chunk_length, generic_architecture=generic_architecture, num_stacks=num_stacks, num_blocks=num_blocks, num_layers=num_layers, layer_widths=layer_widths, expansion_coefficient_dim=expansion_coefficient_dim, trend_polynomial_degree=trend_polynomial_degree, dropout=dropout, activation=activation), length)"
      ],
      "metadata": {
        "id": "GTL0oj9GOOxU"
      },
      "execution_count": null,
      "outputs": []
    },
    {
      "cell_type": "code",
      "source": [
        "#@title Test Values for N-BEATS - Dataset 2 (Aus  Beer)\n",
        "input_chunk_length = 0 #@param {type:\"integer\"}\n",
        "output_chunk_length = 0 #@param {type:\"integer\"}\n",
        "generic_architecture = True #@param {type:\"boolean\"}\n",
        "num_stacks = 30 #@param {type:\"integer\"}\n",
        "num_blocks = 1 #@param {type:\"integer\"}\n",
        "num_layers = 4 #@param {type:\"integer\"}\n",
        "layer_widths = 256 #@param {type:\"raw\"}\n",
        "expansion_coefficient_dim = 5 #@param {type:\"integer\"}\n",
        "trend_polynomial_degree = 2 #@param {type:\"integer\"}\n",
        "dropout = 0.0 #@param {type:\"number\"}\n",
        "activation = 'ReLU' #@param [\"'ReLU'\", \"'RReLU'\", \"'PReLU'\", \"'Softplus'\", \"'Tanh'\", \"'SELU'\", \"'LeakyReLU'\", \"'Sigmoid'\"] {type:\"raw\", allow-input: true}\n",
        "\n",
        "\n",
        "eval_model( NBEATSModel(input_chunk_length = input_chunk_length, output_chunk_length = output_chunk_length, generic_architecture=generic_architecture, num_stacks=num_stacks, num_blocks=num_blocks, num_layers=num_layers, layer_widths=layer_widths, expansion_coefficient_dim=expansion_coefficient_dim, trend_polynomial_degree=trend_polynomial_degree, dropout=dropout, activation=activation),n, data2, train2, test2)"
      ],
      "metadata": {
        "id": "36wm87QBN4bn"
      },
      "execution_count": null,
      "outputs": []
    },
    {
      "cell_type": "code",
      "source": [
        "#@title Test Values for N-BEATS - Dataset 3 (Monthly Milk)\n",
        "input_chunk_length = 0 #@param {type:\"integer\"}\n",
        "output_chunk_length = 0 #@param {type:\"integer\"}\n",
        "generic_architecture = True #@param {type:\"boolean\"}\n",
        "num_stacks = 30 #@param {type:\"integer\"}\n",
        "num_blocks = 1 #@param {type:\"integer\"}\n",
        "num_layers = 4 #@param {type:\"integer\"}\n",
        "layer_widths = 256 #@param {type:\"raw\"}\n",
        "expansion_coefficient_dim = 5 #@param {type:\"integer\"}\n",
        "trend_polynomial_degree = 2 #@param {type:\"integer\"}\n",
        "dropout = 0.0 #@param {type:\"number\"}\n",
        "activation = 'ReLU' #@param [\"'ReLU'\", \"'RReLU'\", \"'PReLU'\", \"'Softplus'\", \"'Tanh'\", \"'SELU'\", \"'LeakyReLU'\", \"'Sigmoid'\"] {type:\"raw\", allow-input: true}\n",
        "\n",
        "\n",
        "eval_model( NBEATSModel(input_chunk_length = input_chunk_length, output_chunk_length = output_chunk_length, generic_architecture=generic_architecture, num_stacks=num_stacks, num_blocks=num_blocks, num_layers=num_layers, layer_widths=layer_widths, expansion_coefficient_dim=expansion_coefficient_dim, trend_polynomial_degree=trend_polynomial_degree, dropout=dropout, activation=activation),n, data3, train3, test3)"
      ],
      "metadata": {
        "id": "2tdbtrO4N-Ri"
      },
      "execution_count": null,
      "outputs": []
    },
    {
      "cell_type": "code",
      "source": [
        "#@title Test Values for N-BEATS - Dataset 4 (Heart Rate)\n",
        "input_chunk_length = 0 #@param {type:\"integer\"}\n",
        "output_chunk_length = 0 #@param {type:\"integer\"}\n",
        "generic_architecture = True #@param {type:\"boolean\"}\n",
        "num_stacks = 30 #@param {type:\"integer\"}\n",
        "num_blocks = 1 #@param {type:\"integer\"}\n",
        "num_layers = 4 #@param {type:\"integer\"}\n",
        "layer_widths = 256 #@param {type:\"raw\"}\n",
        "expansion_coefficient_dim = 5 #@param {type:\"integer\"}\n",
        "trend_polynomial_degree = 2 #@param {type:\"integer\"}\n",
        "dropout = 0.0 #@param {type:\"number\"}\n",
        "activation = 'ReLU' #@param [\"'ReLU'\", \"'RReLU'\", \"'PReLU'\", \"'Softplus'\", \"'Tanh'\", \"'SELU'\", \"'LeakyReLU'\", \"'Sigmoid'\"] {type:\"raw\", allow-input: true}\n",
        "\n",
        "\n",
        "eval_model( NBEATSModel(input_chunk_length = input_chunk_length, output_chunk_length = output_chunk_length, generic_architecture=generic_architecture, num_stacks=num_stacks, num_blocks=num_blocks, num_layers=num_layers, layer_widths=layer_widths, expansion_coefficient_dim=expansion_coefficient_dim, trend_polynomial_degree=trend_polynomial_degree, dropout=dropout, activation=activation),n, data4, train4, test4)"
      ],
      "metadata": {
        "id": "82WCLNzUOEsT"
      },
      "execution_count": null,
      "outputs": []
    },
    {
      "cell_type": "code",
      "source": [
        "#@title Test Values for N-HITS - Dataset 1 (Air Passenger)\n",
        "input_chunk_length = 0 #@param {type:\"integer\"}\n",
        "output_chunk_length = 0 #@param {type:\"integer\"}\n",
        "generic_architecture = True\n",
        "num_stacks = 3 #@param {type:\"integer\"}\n",
        "num_blocks = 1 #@param {type:\"integer\"}\n",
        "num_layers = 2 #@param {type:\"integer\"}\n",
        "layer_widths = 512 #@param {type:\"raw\"}\n",
        "expansion_coefficient_dim = 5\n",
        "trend_polynomial_degree = 2\n",
        "dropout = 0.1 #@param {type:\"number\"}\n",
        "activation = 'ReLU' #@param [\"'ReLU'\", \"'RReLU'\", \"'PReLU'\", \"'Softplus'\", \"'Tanh'\", \"'SELU'\", \"'LeakyReLU'\", \"'Sigmoid'\"] {type:\"raw\", allow-input: true}\n",
        "pooling_kernel_sizes = None #@param {type:\"raw\"}\n",
        "MaxPool1d = True #@param {type:\"boolean\"}\n",
        "n_freq_downsample = None #@param {type:\"raw\"}\n",
        "\n",
        "\n",
        "eval_model( NHiTSModel(input_chunk_length, output_chunk_length, num_stacks=num_stacks, num_blocks=num_blocks, num_layers=num_layers, layer_widths=layer_widths, pooling_kernel_sizes=pooling_kernel_sizes, n_freq_downsample=n_freq_downsample, dropout=dropout, activation=activation, MaxPool1d=MaxPool1d),n, data1, train1, test1)"
      ],
      "metadata": {
        "id": "AMvl5e6HPUHV"
      },
      "execution_count": null,
      "outputs": []
    },
    {
      "cell_type": "code",
      "source": [
        "#@title Test Values for N-HITS - Dataset 2 (Aus Beer)\n",
        "input_chunk_length = 0 #@param {type:\"integer\"}\n",
        "output_chunk_length = 0 #@param {type:\"integer\"}\n",
        "generic_architecture = True\n",
        "num_stacks = 3 #@param {type:\"integer\"}\n",
        "num_blocks = 1 #@param {type:\"integer\"}\n",
        "num_layers = 2 #@param {type:\"integer\"}\n",
        "layer_widths = 512 #@param {type:\"raw\"}\n",
        "expansion_coefficient_dim = 5\n",
        "trend_polynomial_degree = 2\n",
        "dropout = 0.1 #@param {type:\"number\"}\n",
        "activation = 'ReLU' #@param [\"'ReLU'\", \"'RReLU'\", \"'PReLU'\", \"'Softplus'\", \"'Tanh'\", \"'SELU'\", \"'LeakyReLU'\", \"'Sigmoid'\"] {type:\"raw\", allow-input: true}\n",
        "pooling_kernel_sizes = None #@param {type:\"raw\"}\n",
        "MaxPool1d = True #@param {type:\"boolean\"}\n",
        "n_freq_downsample = None #@param {type:\"raw\"}\n",
        "\n",
        "\n",
        "eval_model( NHiTSModel(input_chunk_length, output_chunk_length, num_stacks=num_stacks, num_blocks=num_blocks, num_layers=num_layers, layer_widths=layer_widths, pooling_kernel_sizes=pooling_kernel_sizes, n_freq_downsample=n_freq_downsample, dropout=dropout, activation=activation, MaxPool1d=MaxPool1d),n, data2, train2, test2)"
      ],
      "metadata": {
        "id": "vPqreRR-Qvik"
      },
      "execution_count": null,
      "outputs": []
    },
    {
      "cell_type": "code",
      "source": [
        "#@title Test Values for N-HITS - Dataset 3 (Monthly Milk)\n",
        "input_chunk_length = 0 #@param {type:\"integer\"}\n",
        "output_chunk_length = 0 #@param {type:\"integer\"}\n",
        "generic_architecture = True\n",
        "num_stacks = 3 #@param {type:\"integer\"}\n",
        "num_blocks = 1 #@param {type:\"integer\"}\n",
        "num_layers = 2 #@param {type:\"integer\"}\n",
        "layer_widths = 512 #@param {type:\"raw\"}\n",
        "expansion_coefficient_dim = 5\n",
        "trend_polynomial_degree = 2\n",
        "dropout = 0.1 #@param {type:\"number\"}\n",
        "activation = 'ReLU' #@param [\"'ReLU'\", \"'RReLU'\", \"'PReLU'\", \"'Softplus'\", \"'Tanh'\", \"'SELU'\", \"'LeakyReLU'\", \"'Sigmoid'\"] {type:\"raw\", allow-input: true}\n",
        "pooling_kernel_sizes = None #@param {type:\"raw\"}\n",
        "MaxPool1d = True #@param {type:\"boolean\"}\n",
        "n_freq_downsample = None #@param {type:\"raw\"}\n",
        "\n",
        "\n",
        "eval_model( NHiTSModel(input_chunk_length, output_chunk_length, num_stacks=num_stacks, num_blocks=num_blocks, num_layers=num_layers, layer_widths=layer_widths, pooling_kernel_sizes=pooling_kernel_sizes, n_freq_downsample=n_freq_downsample, dropout=dropout, activation=activation, MaxPool1d=MaxPool1d),n, data3, train3, test3)"
      ],
      "metadata": {
        "id": "v9W1sQqBQwfb"
      },
      "execution_count": null,
      "outputs": []
    },
    {
      "cell_type": "code",
      "source": [
        "#@title Test Values for N-HITS - Dataset 4 (Heart Rate)\n",
        "input_chunk_length = 0 #@param {type:\"integer\"}\n",
        "output_chunk_length = 0 #@param {type:\"integer\"}\n",
        "generic_architecture = True\n",
        "num_stacks = 3 #@param {type:\"integer\"}\n",
        "num_blocks = 1 #@param {type:\"integer\"}\n",
        "num_layers = 2 #@param {type:\"integer\"}\n",
        "layer_widths = 512 #@param {type:\"raw\"}\n",
        "expansion_coefficient_dim = 5\n",
        "trend_polynomial_degree = 2\n",
        "dropout = 0.1 #@param {type:\"number\"}\n",
        "activation = 'ReLU' #@param [\"'ReLU'\", \"'RReLU'\", \"'PReLU'\", \"'Softplus'\", \"'Tanh'\", \"'SELU'\", \"'LeakyReLU'\", \"'Sigmoid'\"] {type:\"raw\", allow-input: true}\n",
        "pooling_kernel_sizes = None #@param {type:\"raw\"}\n",
        "MaxPool1d = True #@param {type:\"boolean\"}\n",
        "n_freq_downsample = None #@param {type:\"raw\"}\n",
        "\n",
        "\n",
        "eval_model( NHiTSModel(input_chunk_length, output_chunk_length, num_stacks=num_stacks, num_blocks=num_blocks, num_layers=num_layers, layer_widths=layer_widths, pooling_kernel_sizes=pooling_kernel_sizes, n_freq_downsample=n_freq_downsample, dropout=dropout, activation=activation, MaxPool1d=MaxPool1d),n, data4, train4, test4)"
      ],
      "metadata": {
        "id": "AsYYJzxwQxle"
      },
      "execution_count": null,
      "outputs": []
    },
    {
      "cell_type": "code",
      "source": [
        "#@title Test VAlues for VARIMA() Dataset 1 (Air Passenger)\n",
        "from darts.datasets import ElectricityDataset\n",
        "series = ElectricityDataset().load()\n",
        "train, test = series.split_before(0.66)\n",
        "from darts.dataprocessing.transformers import Scaler\n",
        "multi_serie_elec = ElectricityDataset().load()\n",
        "retained_components = [\"MT_002\", \"MT_008\", \"MT_009\"]\n",
        "multi_serie_elec = multi_serie_elec[retained_components]\n",
        "# resampling the multivariate time serie\n",
        "multi_serie_elec = multi_serie_elec.resample(freq=\"1H\")\n",
        "# keep the values for the last 5 days\n",
        "multi_serie_elec = multi_serie_elec[-168:]\n",
        "training_set, validation_set = multi_serie_elec[:-24], multi_serie_elec[-24:]\n",
        "\n",
        "scaler_dataset = Scaler()\n",
        "\n",
        "def fit_and_pred(model, training, validation):\n",
        "  model.fit(training)\n",
        "  forecast = model.predict(len(validation))\n",
        "  return forecast\n",
        "\n",
        "training_scaled = scaler_dataset.fit_transform(training_set)\n",
        "validation_scaled = scaler_dataset.transform(validation_set)\n",
        "\n",
        "p = 1 #@param {type:\"integer\"}\n",
        "d = 0 #@param {type:\"integer\"}\n",
        "q = 0 #@param {type:\"integer\"}\n",
        "trend = None #@param {type:\"raw\"}\n",
        "encoders = None #@param {type:\"raw\"}\n",
        "\n",
        "#eval_model(VARIMA(p=p, d=d, q=q, trend = trend), n, series, training_scaled, validation_scaled)\n"
      ],
      "metadata": {
        "id": "ONVjyJopRUgS"
      },
      "execution_count": null,
      "outputs": []
    }
  ]
}