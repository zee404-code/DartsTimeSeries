{
  "nbformat": 4,
  "nbformat_minor": 0,
  "metadata": {
    "colab": {
      "provenance": [],
      "authorship_tag": "ABX9TyO8Y8HS8n5Jm1GXk3Z8rbvc",
      "include_colab_link": true
    },
    "kernelspec": {
      "name": "python3",
      "display_name": "Python 3"
    },
    "language_info": {
      "name": "python"
    }
  },
  "cells": [
    {
      "cell_type": "markdown",
      "metadata": {
        "id": "view-in-github",
        "colab_type": "text"
      },
      "source": [
        "<a href=\"https://colab.research.google.com/github/zee404-code/DartsTimeSeries/blob/main/darts06(1).ipynb\" target=\"_parent\"><img src=\"https://colab.research.google.com/assets/colab-badge.svg\" alt=\"Open In Colab\"/></a>"
      ]
    },
    {
      "cell_type": "code",
      "execution_count": null,
      "metadata": {
        "id": "4rjlyxm2AFbD"
      },
      "outputs": [],
      "source": [
        "!pip install darts"
      ]
    },
    {
      "cell_type": "code",
      "source": [
        "#from darts.datasets import HeartRateDataset      -> is stationary\n",
        "#data = HeartRateDataset().load()\n",
        "from darts.datasets import AirPassengersDataset     # -> not stationary\n",
        "data = AirPassengersDataset().load()\n",
        "data.plot()"
      ],
      "metadata": {
        "id": "F-1fKpkFBVXb"
      },
      "execution_count": null,
      "outputs": []
    },
    {
      "cell_type": "code",
      "source": [
        "from darts.utils.statistics import check_seasonality, extract_trend_and_seasonality,remove_seasonality, remove_trend, stationarity_test_adf, stationarity_test_kpss, stationarity_tests\n",
        "from darts.utils.model_selection import train_test_split\n",
        "from darts.utils.utils import ModelMode, SeasonalityMode\n",
        "from darts.models import AutoARIMA, ARIMA, VARIMA"
      ],
      "metadata": {
        "id": "fPujqOmhBmcA"
      },
      "execution_count": 4,
      "outputs": []
    },
    {
      "cell_type": "code",
      "source": [
        "check1 = stationarity_tests(data, 0.05, 0.05)\n",
        "print(check1)\n",
        "#stationary is based on data. Depending on the stationarity, forecasting models are used\n",
        "#remove non-stationary attributes, apply ARIMA\n",
        "#if seasonality exists, use SARIMA (seasonal ARIMA)\n",
        "#VARIMA is used for multivariate data\n",
        "#AutoARIMA is for optimal p,d,q values"
      ],
      "metadata": {
        "id": "kjHi7tZDBduQ"
      },
      "execution_count": null,
      "outputs": []
    },
    {
      "cell_type": "code",
      "source": [
        "train, test = train_test_split(data, test_size=0.25, axis=0, input_size=0, horizon=0, vertical_split_type='simple', lazy=False)"
      ],
      "metadata": {
        "id": "_clMyeUDCSFc"
      },
      "execution_count": 6,
      "outputs": []
    },
    {
      "cell_type": "code",
      "source": [
        "train.plot(label = 'train')\n",
        "test.plot(label = 'test')"
      ],
      "metadata": {
        "id": "CLaVaDr7Dle0"
      },
      "execution_count": null,
      "outputs": []
    },
    {
      "cell_type": "code",
      "source": [
        "model = ARIMA()\n",
        "model.fit(train)\n",
        "pred = model.predict(len(test))\n",
        "train.plot(label = 'train')\n",
        "test.plot(label = 'test')\n",
        "pred.plot(label = 'pred')"
      ],
      "metadata": {
        "id": "IiNZ4_rSEB9k"
      },
      "execution_count": null,
      "outputs": []
    },
    {
      "cell_type": "code",
      "source": [
        "model2 = AutoARIMA()\n",
        "model2.fit(train)\n",
        "pred = model2.predict(len(test))\n",
        "train.plot(label = 'train')\n",
        "test.plot(label = 'test')\n",
        "pred.plot(label = 'pred')"
      ],
      "metadata": {
        "id": "FjIw8QdKENtr"
      },
      "execution_count": null,
      "outputs": []
    },
    {
      "cell_type": "code",
      "source": [
        "data2, data3 = extract_trend_and_seasonality(data, freq=12, model=ModelMode.MULTIPLICATIVE, method='naive')\n",
        "#data 2 is trend\n",
        "#data 3 is seasonality"
      ],
      "metadata": {
        "id": "iNFOLFl0FJNT"
      },
      "execution_count": 10,
      "outputs": []
    },
    {
      "cell_type": "code",
      "source": [
        "check2 = stationarity_tests(data2, 0.05, 0.05)\n",
        "print(check2)\n",
        "#if data 2 is false, means trend exists"
      ],
      "metadata": {
        "id": "nxnHk9pnFeY9"
      },
      "execution_count": null,
      "outputs": []
    },
    {
      "cell_type": "code",
      "source": [
        "check3 = stationarity_tests(data3, 0.05, 0.05)\n",
        "print(check3)\n",
        "#(if data 3 is true, means seasonality does not exist)\n",
        "#the above comment isn't working out. stationarity tests is still giving an error.\n",
        "da4 = remove_seasonality(data, freq=None, model=SeasonalityMode.MULTIPLICATIVE, method='naive')\n",
        "for m in range(2, 25):\n",
        "    is_seasonal, period = check_seasonality(da4, m=m, alpha=0.05)\n",
        "    print('running {}'.format(m))\n",
        "    if is_seasonal:\n",
        "        print(\"There is seasonality of order {}.\".format(period))"
      ],
      "metadata": {
        "colab": {
          "base_uri": "https://localhost:8080/"
        },
        "id": "el2_IBEuFtZu",
        "outputId": "6aa39f90-c3ac-42fd-f217-13a5cc4a407b"
      },
      "execution_count": 62,
      "outputs": [
        {
          "output_type": "stream",
          "name": "stdout",
          "text": [
            "True\n",
            "running 2\n",
            "running 3\n",
            "running 4\n",
            "running 5\n",
            "running 6\n",
            "running 7\n",
            "running 8\n",
            "running 9\n",
            "running 10\n",
            "running 11\n",
            "running 12\n",
            "running 13\n",
            "running 14\n",
            "running 15\n",
            "running 16\n",
            "running 17\n",
            "running 18\n",
            "running 19\n",
            "running 20\n",
            "running 21\n",
            "running 22\n",
            "running 23\n",
            "running 24\n"
          ]
        },
        {
          "output_type": "stream",
          "name": "stderr",
          "text": [
            "/usr/local/lib/python3.9/dist-packages/statsmodels/tsa/stattools.py:2022: InterpolationWarning: The test statistic is outside of the range of p-values available in the\n",
            "look-up table. The actual p-value is greater than the p-value returned.\n",
            "\n",
            "  warnings.warn(\n"
          ]
        }
      ]
    },
    {
      "cell_type": "code",
      "source": [
        "#visualizations\n",
        "data2.plot() #shows trend exists"
      ],
      "metadata": {
        "id": "uHO1PMGdF2R-"
      },
      "execution_count": null,
      "outputs": []
    },
    {
      "cell_type": "code",
      "source": [
        "data3.plot() #shows lack of seasonality"
      ],
      "metadata": {
        "id": "oEltvhn0F8ES"
      },
      "execution_count": null,
      "outputs": []
    },
    {
      "cell_type": "code",
      "source": [
        "#now that i know seasonality doesnt exist, i can simply remove trend only\n",
        "data4 = remove_trend(data, model=ModelMode.MULTIPLICATIVE, method='naive')\n",
        "#this trend is being removed from the original data"
      ],
      "metadata": {
        "id": "R9N3YS2wGDsP"
      },
      "execution_count": 15,
      "outputs": []
    },
    {
      "cell_type": "code",
      "source": [
        "data4.plot()"
      ],
      "metadata": {
        "id": "PeYxgWzcGQLv"
      },
      "execution_count": null,
      "outputs": []
    },
    {
      "cell_type": "code",
      "source": [
        "#check for seasonality in data4\n",
        "check3 = stationarity_tests(data4, 0.05, 0.05)\n",
        "print(check3)"
      ],
      "metadata": {
        "id": "4RaI8EFTGTjs"
      },
      "execution_count": null,
      "outputs": []
    },
    {
      "cell_type": "code",
      "source": [
        "%matplotlib inline\n",
        "import matplotlib.pyplot as plt\n",
        "import pandas as pd"
      ],
      "metadata": {
        "id": "KrVMelLIHZfO"
      },
      "execution_count": 18,
      "outputs": []
    },
    {
      "cell_type": "code",
      "source": [
        "#since, check3 is true. data is stationary now. use ARIMA()\n",
        "train2, test2 = train_test_split(data4, test_size=0.25, axis=0, input_size=0, horizon=0, vertical_split_type='simple', lazy=False)\n",
        "model3 = ARIMA() # AutoARIMA isnt working\n",
        "model3.fit(train2)\n",
        "pred2 = model3.predict(len(test2))\n",
        "train2.plot(label = 'train')\n",
        "test2.plot(label = 'test')\n",
        "pred2.plot(label = 'pred')"
      ],
      "metadata": {
        "id": "qInR0RZaGhsq"
      },
      "execution_count": null,
      "outputs": []
    },
    {
      "cell_type": "code",
      "source": [
        "data.is_univariate    #if this is false, use VARIMA"
      ],
      "metadata": {
        "id": "bmRCQ4PiRO8w"
      },
      "execution_count": null,
      "outputs": []
    },
    {
      "cell_type": "code",
      "source": [
        "def vis(train3, test3, pred3):\n",
        "  train3.plot(label = 'train')\n",
        "  test3.plot(label = 'test')\n",
        "  pred3.plot(label = 'pred')"
      ],
      "metadata": {
        "id": "z3VfNyL1S4_I"
      },
      "execution_count": 23,
      "outputs": []
    },
    {
      "cell_type": "code",
      "source": [
        "if stationarity_tests(data, 0.05, 0.05): \n",
        "  print('this runs 1')\n",
        "  if data.is_univariate:\n",
        "    print('this runs 2')\n",
        "    train, test = train_test_split(data, test_size=0.25, axis=0, input_size=0, horizon=0, vertical_split_type='simple', lazy=False)\n",
        "    model = ARIMA()\n",
        "    model.fit(train)\n",
        "    pred = model.predict(len(test))\n",
        "    vis(train, test, pred)\n",
        "  else:\n",
        "    print('this runs 3')\n",
        "    train, test = train_test_split(data, test_size=0.25, axis=0, input_size=0, horizon=0, vertical_split_type='simple', lazy=False)\n",
        "    model = VARIMA()\n",
        "    model.fit(train)\n",
        "    pred = model.predict(len(test))\n",
        "    vis(train, test, pred)\n",
        "else:\n",
        "  print('this runs 4')\n",
        "  data2, data3 = extract_trend_and_seasonality(data, freq=12, model=ModelMode.MULTIPLICATIVE, method='naive')\n",
        "  #either data has trend, seasonality or both\n",
        "  if (not stationarity_tests(data2, 0.05, 0.05)) and (not stationarity_tests(data3, 0.05, 0.05)) :\n",
        "    print('this runs 5')\n",
        "    #means trend and stationary both exists, remove both\n",
        "    #data4 = remove_trend(data, model=ModelMode.MULTIPLICATIVE, method='naive').remove_seasonality(data, freq=None, model=SeasonalityMode.MULTIPLICATIVE, method='naive')\n",
        "    data4 = remove_seasonality(data, freq=None, model=SeasonalityMode.ADDITIVE, method='STL')\n",
        "    # method = 'naive' with model = 'multiplicative' if only seasonal\n",
        "    # method = 'STL' with model = 'additive' if both seasonal and trend\n",
        "  elif not stationarity_tests(data2, 0.05, 0.05):\n",
        "    print('this runs 6')\n",
        "    #means only trend exists, remove it\n",
        "    data4 = remove_trend(data, model=ModelMode.MULTIPLICATIVE, method='naive')\n",
        "  else:\n",
        "    print('this runs 7')\n",
        "    #means only seasonality exists, remove it\n",
        "    data4 = remove_seasonality(data, freq=None, model=SeasonalityMode.MULTIPLICATIVE, method='naive')\n",
        "\n",
        "#check stationarity again\n",
        "print('this runs 8')\n",
        "check = stationarity_tests(data4, 0.05, 0.05)\n",
        "print(check)\n",
        "\n",
        " #if true use ARIMA, if false (check if seasonality still exists, if true use SARIMA)\n",
        "\n",
        "if not stationarity_tests(data4, 0.05, 0.05):\n",
        "  if check_seasonality(data4, m=None, max_lag=24, alpha=0.05):\n",
        "      print('use SARIMA')\n",
        "\n",
        "print('this runs 9')\n",
        "train2, test2 = train_test_split(data4, test_size=0.25, axis=0, input_size=0, horizon=0, vertical_split_type='simple', lazy=False)\n",
        "\n",
        "if data.is_univariate:\n",
        "  print('this runs 10')\n",
        "  model2 = ARIMA()\n",
        "else:\n",
        "  print('this runs 11')\n",
        "  model2 = VARIMA()\n",
        "\n",
        "print('this runs 12')\n",
        "model2.fit(train2)\n",
        "pred2 = model2.predict(len(test2))\n",
        "vis(train2, test2, pred2)\n"
      ],
      "metadata": {
        "id": "lP_S6nSwSeso"
      },
      "execution_count": null,
      "outputs": []
    },
    {
      "cell_type": "code",
      "source": [
        "######## box-cox, differencing and pipelines #################\n",
        "# box-cox removes both seasonality and trend. It works on \n",
        "# box-cox -> data show variation that increases or decreases with the level of the series. log and power transformations\n",
        "# lambda = 0 -> log transformations are used\n",
        "# lambda not equal to 0, power transformations are used followed by simple scaling.\n",
        "# differencing only removes seasonality. Isn't removing trend.\n",
        "for m in range(2, 25):\n",
        "    is_seasonal, period = check_seasonality(data, m=m, alpha=0.05)\n",
        "    if is_seasonal:\n",
        "        print(\"There is seasonality of order {}.\".format(period))"
      ],
      "metadata": {
        "id": "pgV940yuSLIs"
      },
      "execution_count": null,
      "outputs": []
    },
    {
      "cell_type": "code",
      "source": [
        "dat = data.diff() #simple differencing isnt removing seasonality\n",
        "for m in range(2, 25):\n",
        "    is_seasonal, period = check_seasonality(dat, m=m, alpha=0.05)\n",
        "    print('running {}'.format(m))\n",
        "    if is_seasonal:\n",
        "        print(\"There is seasonality of order {}.\".format(period))"
      ],
      "metadata": {
        "id": "W487y5QNWrG4"
      },
      "execution_count": null,
      "outputs": []
    },
    {
      "cell_type": "code",
      "source": [
        "dat = data.diff(periods = 12) #12 given that the seasonality is of order 12\n",
        "# n = 2 is creating seasonality of order 23. n is differencing steps\n",
        "for m in range(2, 25):\n",
        "    is_seasonal, period = check_seasonality(dat, m=m, alpha=0.05)\n",
        "    print('running {}'.format(m))\n",
        "    if is_seasonal:\n",
        "        print(\"There is seasonality of order {}.\".format(period))\n",
        "\n",
        "#seasonality removed through differencing. check if dat is stationary.\n",
        "c = stationarity_tests(dat, 0.05, 0.05)\n",
        "print(c) #it isnt. check for trend.\n",
        "\n",
        "dat3 = remove_trend(dat, model=ModelMode.ADDITIVE, method='naive')\n",
        "c2 = stationarity_tests(dat3, 0.05, 0.05)\n",
        "print(c2) #it is. both trend and seasonality have been removed. "
      ],
      "metadata": {
        "colab": {
          "base_uri": "https://localhost:8080/"
        },
        "id": "7Yt5pkq6XROF",
        "outputId": "1c829323-46fc-46dc-bfa1-a0482e0e7508"
      },
      "execution_count": 126,
      "outputs": [
        {
          "output_type": "stream",
          "name": "stdout",
          "text": [
            "running 2\n",
            "running 3\n",
            "running 4\n",
            "running 5\n",
            "running 6\n",
            "running 7\n",
            "running 8\n",
            "running 9\n",
            "running 10\n",
            "running 11\n",
            "running 12\n",
            "running 13\n",
            "running 14\n",
            "running 15\n",
            "running 16\n",
            "running 17\n",
            "running 18\n",
            "running 19\n",
            "running 20\n",
            "running 21\n",
            "running 22\n",
            "running 23\n",
            "running 24\n",
            "False\n",
            "True\n"
          ]
        },
        {
          "output_type": "stream",
          "name": "stderr",
          "text": [
            "/usr/local/lib/python3.9/dist-packages/statsmodels/tsa/stattools.py:2022: InterpolationWarning: The test statistic is outside of the range of p-values available in the\n",
            "look-up table. The actual p-value is greater than the p-value returned.\n",
            "\n",
            "  warnings.warn(\n"
          ]
        }
      ]
    },
    {
      "cell_type": "code",
      "source": [
        "##### box-cox\n",
        "from darts.dataprocessing.transformers import BoxCox\n",
        "transformer = BoxCox(name='BoxCox',lmbda = None)\n",
        "series_transformed = transformer.fit_transform(data)\n",
        "print(series_transformed.head())\n",
        "c3 = stationarity_tests(series_transformed, 0.05, 0.05)\n",
        "print(c3)\n",
        "for m in range(2, 25):\n",
        "    is_seasonal, period = check_seasonality(series_transformed, m=m, alpha=0.05)\n",
        "    print('running {}'.format(m))\n",
        "    if is_seasonal:\n",
        "        print(\"There is seasonality of order {}.\".format(period))\n",
        "dat4 = remove_trend(series_transformed, model=ModelMode.MULTIPLICATIVE, method='naive')\n",
        "c4 = stationarity_tests(series_transformed, 0.05, 0.05)\n",
        "print(c4)"
      ],
      "metadata": {
        "colab": {
          "base_uri": "https://localhost:8080/"
        },
        "id": "ia9XNs3_ZSbo",
        "outputId": "6cdb3877-adad-4384-dba8-477c9cb9a226"
      },
      "execution_count": 115,
      "outputs": [
        {
          "output_type": "stream",
          "name": "stdout",
          "text": [
            "<TimeSeries (DataArray) (Month: 5, component: 1, sample: 1)>\n",
            "array([[[6.82749005]],\n",
            "\n",
            "       [[6.93282224]],\n",
            "\n",
            "       [[7.16189151]],\n",
            "\n",
            "       [[7.11461078]],\n",
            "\n",
            "       [[6.98378687]]])\n",
            "Coordinates:\n",
            "  * Month      (Month) datetime64[ns] 1949-01-01 1949-02-01 ... 1949-05-01\n",
            "  * component  (component) object '#Passengers'\n",
            "Dimensions without coordinates: sample\n",
            "Attributes:\n",
            "    static_covariates:  None\n",
            "    hierarchy:          None\n",
            "False\n",
            "running 2\n",
            "running 3\n",
            "running 4\n",
            "running 5\n",
            "running 6\n",
            "running 7\n",
            "running 8\n",
            "running 9\n",
            "running 10\n",
            "running 11\n",
            "running 12\n",
            "There is seasonality of order 12.\n",
            "running 13\n",
            "running 14\n",
            "running 15\n",
            "running 16\n",
            "running 17\n",
            "running 18\n",
            "running 19\n",
            "running 20\n",
            "running 21\n",
            "running 22\n",
            "running 23\n",
            "running 24\n",
            "False\n"
          ]
        },
        {
          "output_type": "stream",
          "name": "stderr",
          "text": [
            "/usr/local/lib/python3.9/dist-packages/statsmodels/tsa/stattools.py:2018: InterpolationWarning: The test statistic is outside of the range of p-values available in the\n",
            "look-up table. The actual p-value is smaller than the p-value returned.\n",
            "\n",
            "  warnings.warn(\n",
            "/usr/local/lib/python3.9/dist-packages/statsmodels/tsa/stattools.py:2018: InterpolationWarning: The test statistic is outside of the range of p-values available in the\n",
            "look-up table. The actual p-value is smaller than the p-value returned.\n",
            "\n",
            "  warnings.warn(\n"
          ]
        }
      ]
    },
    {
      "cell_type": "code",
      "source": [
        "#from darts.dataprocessing.transformers import diff, Diff"
      ],
      "metadata": {
        "id": "Joj1XJHKf_r-"
      },
      "execution_count": 91,
      "outputs": []
    },
    {
      "cell_type": "code",
      "source": [
        "#final verdict is that use stationary tests to detect trends. use check_seasonality to detect seasonality.\n",
        "#use remove trends. use either remove seasonality or used diff(periods = order of seasonality)\n",
        "\n",
        "from darts.dataprocessing.pipeline import Pipeline\n",
        "pipeline = Pipeline([BoxCox(name='BoxCox', lmbda=None, optim_method='mle', n_jobs=1, verbose=True)],copy=False, verbose=True, n_jobs=None)\n",
        "# (1) remove trend, (2) remove seasonality\n",
        "# (3) check stationarity and seasonality\n",
        "series_transformed = pipeline.fit_transform(data)\n",
        "c4 = stationarity_tests(series_transformed, 0.05, 0.05)\n",
        "print(c4)\n",
        "for m in range(2, 25):\n",
        "    is_seasonal, period = check_seasonality(series_transformed, m=m, alpha=0.05)\n",
        "    print('running {}'.format(m))\n",
        "    if is_seasonal:\n",
        "        print(\"There is seasonality of order {}.\".format(period))\n",
        "\n",
        "#box-cox isnt removing either trend or seasonality"
      ],
      "metadata": {
        "id": "jPPIePJ3dAQf"
      },
      "execution_count": null,
      "outputs": []
    },
    {
      "cell_type": "code",
      "source": [
        "#from darts.dataprocessing.transformers import Mapper\n",
        "#transform = Mapper(diff(periods = 12))\n",
        "#series_transformed = transformer.transform(data)"
      ],
      "metadata": {
        "id": "a_QwlZVMkbiB"
      },
      "execution_count": null,
      "outputs": []
    },
    {
      "cell_type": "code",
      "source": [
        "data.has_static_covariates"
      ],
      "metadata": {
        "colab": {
          "base_uri": "https://localhost:8080/"
        },
        "id": "rg3WwCLcmfhK",
        "outputId": "3dd0cece-d7e2-4af0-f899-e48331935335"
      },
      "execution_count": 94,
      "outputs": [
        {
          "output_type": "execute_result",
          "data": {
            "text/plain": [
              "False"
            ]
          },
          "metadata": {},
          "execution_count": 94
        }
      ]
    },
    {
      "cell_type": "code",
      "source": [
        "#from darts.dataprocessing.transformers import (\n",
        "#    Scaler,\n",
        "#    MissingValuesFiller,\n",
        "#    Mapper,\n",
        "#    InvertibleMapper,\n",
        "#    boxcox,\n",
        "#    diff\n",
        "#)\n",
        "#from darts.dataprocessing import Pipeline\n",
        "\n",
        "#scaler = Scaler()\n",
        "#rescaled = scaler.fit_transform(data)\n",
        "\n",
        "#dif = Mapper(\n",
        "#    TimeSeries.diff(periods = 12)\n",
        "#)\n",
        "\n",
        "#pipeline = Pipeline([dif, BoxCox(name='BoxCox', lmbda=None, optim_method='mle', n_jobs=1, verbose=True)])\n",
        "#transformed = pipeline.fit_transform(data)\n",
        "#transformed.plot()"
      ],
      "metadata": {
        "id": "1NFntv68tAAu"
      },
      "execution_count": null,
      "outputs": []
    }
  ]
}